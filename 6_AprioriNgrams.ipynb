{
 "cells": [
  {
   "cell_type": "markdown",
   "metadata": {},
   "source": [
    "# Apriori N Grams\n",
    "\n",
    "This file uses the apriori algorithm to calculate the support, confidence, lift, and relevance (my metric) for every permutation pair in the set of unique n-gram terms from the documents and store the values in a dataframe for future reference.\n",
    "\n",
    "### Input: NgramIdentification.csv\n",
    "### Output: Apriori_Ngrams.csv"
   ]
  },
  {
   "cell_type": "code",
   "execution_count": null,
   "metadata": {},
   "outputs": [],
   "source": [
    "import pandas as pd\n",
    "from apyori import apriori"
   ]
  },
  {
   "cell_type": "code",
   "execution_count": null,
   "metadata": {},
   "outputs": [],
   "source": [
    "ngram_df = pd.read_csv(\"NgramIdentification.csv\")"
   ]
  },
  {
   "cell_type": "code",
   "execution_count": null,
   "metadata": {},
   "outputs": [],
   "source": [
    "# Extract unique terms from the Expanded_Ngrams column\n",
    "# Assuming the column contains lists stored as strings\n",
    "ngram_df['Ngrams'] = ngram_df['Ngrams'].apply(lambda x: eval(x) if isinstance(x, str) else x)\n",
    "unique_terms = set(term for ngrams in ngram_df['Ngrams'] for term in ngrams)"
   ]
  },
  {
   "cell_type": "code",
   "execution_count": null,
   "metadata": {},
   "outputs": [],
   "source": [
    "# Prepare transactions for Apriori\n",
    "transactions = ngram_df['Ngrams'].tolist()\n",
    "\n",
    "# Perform Apriori analysis using apyori\n",
    "min_support = 0.001  # Adjust as needed\n",
    "#min_confidence = 0.01  # Adjust as needed\n",
    "#min_lift = 1.0  # Adjust as needed\n",
    "results = list(apriori(transactions, min_support=min_support, max_length=2))"
   ]
  },
  {
   "cell_type": "code",
   "execution_count": null,
   "metadata": {},
   "outputs": [],
   "source": [
    "print(results)"
   ]
  },
  {
   "cell_type": "code",
   "execution_count": null,
   "metadata": {},
   "outputs": [],
   "source": [
    "# Extract Apriori results into a DataFrame\n",
    "rules = []\n",
    "\n",
    "# Process Apriori results\n",
    "for result in results:\n",
    "    for ordered_stat in result.ordered_statistics:\n",
    "        base = list(ordered_stat.items_base)\n",
    "        add = list(ordered_stat.items_add)\n",
    "\n",
    "        # Ensure non-empty base and add\n",
    "        if base and add:\n",
    "            rules.append({\n",
    "                \"Base\": base,  # Extract the single base term\n",
    "                \"Add\": add,    # Extract the single add term\n",
    "                \"Support\": result.support,\n",
    "                \"Confidence\": ordered_stat.confidence,\n",
    "                \"Lift\": ordered_stat.lift,\n",
    "                \"Relevance\": ordered_stat.confidence * ordered_stat.lift\n",
    "            })\n",
    "\n",
    "# Create DataFrame of the rules\n",
    "rules_df = pd.DataFrame(rules)"
   ]
  },
  {
   "cell_type": "code",
   "execution_count": null,
   "metadata": {},
   "outputs": [],
   "source": [
    "rules_df.to_csv(\"Apriori_Ngrams.csv\", index=False)"
   ]
  }
 ],
 "metadata": {
  "kernelspec": {
   "display_name": "NLP",
   "language": "python",
   "name": "python3"
  },
  "language_info": {
   "codemirror_mode": {
    "name": "ipython",
    "version": 3
   },
   "file_extension": ".py",
   "mimetype": "text/x-python",
   "name": "python",
   "nbconvert_exporter": "python",
   "pygments_lexer": "ipython3",
   "version": "3.12.5"
  }
 },
 "nbformat": 4,
 "nbformat_minor": 2
}
