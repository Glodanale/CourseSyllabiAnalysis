{
 "cells": [
  {
   "cell_type": "markdown",
   "metadata": {},
   "source": [
    "# Fix AI Typo\n",
    "\n",
    "This file replaces instances of the token \"al\" (lowercase A lowercase L) to \"ai\".  This is a frequently made mistake from the text extraction.\n",
    "\n",
    "### Input: TextFiles_Combo folder\n",
    "### Output:  TextFiles_Combo folder"
   ]
  },
  {
   "cell_type": "code",
   "execution_count": null,
   "metadata": {},
   "outputs": [],
   "source": [
    "import os"
   ]
  },
  {
   "cell_type": "code",
   "execution_count": 2,
   "metadata": {},
   "outputs": [],
   "source": [
    "# Define the folder containing text files\n",
    "folder_path = \"TextFiles_Combo\""
   ]
  },
  {
   "cell_type": "code",
   "execution_count": 3,
   "metadata": {},
   "outputs": [],
   "source": [
    "# Function to replace \"Al\" with \"AI\"\n",
    "def replace_token(text):\n",
    "    # Tokenize the text by splitting on whitespace\n",
    "    tokens = text.split()\n",
    "    # Replace any instance of \"Al\" with \"AI\"\n",
    "    updated_tokens = [\"AI\" if token == \"Al\" else token for token in tokens]\n",
    "    # Reassemble the text\n",
    "    return \" \".join(updated_tokens)"
   ]
  },
  {
   "cell_type": "code",
   "execution_count": 4,
   "metadata": {},
   "outputs": [
    {
     "name": "stdout",
     "output_type": "stream",
     "text": [
      "Token 'Al' replaced with 'AI' successfully!\n"
     ]
    }
   ],
   "source": [
    "# Process all text files in the folder\n",
    "for filename in os.listdir(folder_path):\n",
    "    if filename.endswith(\".txt\"):  # Process only .txt files\n",
    "        file_path = os.path.join(folder_path, filename)\n",
    "        with open(file_path, \"r\", encoding=\"utf-8\") as file:\n",
    "            content = file.read()\n",
    "        \n",
    "        # Replace \"Al\" with \"AI\"\n",
    "        updated_content = replace_token(content)\n",
    "        \n",
    "        # Overwrite the file with the updated content\n",
    "        with open(file_path, \"w\", encoding=\"utf-8\") as file:\n",
    "            file.write(updated_content)\n",
    "\n",
    "print(\"Token 'Al' replaced with 'AI' successfully!\")"
   ]
  }
 ],
 "metadata": {
  "kernelspec": {
   "display_name": "NLP",
   "language": "python",
   "name": "python3"
  },
  "language_info": {
   "codemirror_mode": {
    "name": "ipython",
    "version": 3
   },
   "file_extension": ".py",
   "mimetype": "text/x-python",
   "name": "python",
   "nbconvert_exporter": "python",
   "pygments_lexer": "ipython3",
   "version": "3.12.5"
  }
 },
 "nbformat": 4,
 "nbformat_minor": 2
}
