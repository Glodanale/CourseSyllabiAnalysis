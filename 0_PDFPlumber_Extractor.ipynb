{
 "cells": [
  {
   "cell_type": "code",
   "execution_count": 1,
   "metadata": {},
   "outputs": [],
   "source": [
    "import os\n",
    "import pdfplumber"
   ]
  },
  {
   "cell_type": "code",
   "execution_count": 2,
   "metadata": {},
   "outputs": [
    {
     "name": "stdout",
     "output_type": "stream",
     "text": [
      "Extracted text from CSCI-1100-003-Haas.pdf and saved to CSCI-1100-003-Haas.txt\n",
      "Extracted text from CSCI-1100-901-Haas.pdf and saved to CSCI-1100-901-Haas.txt\n",
      "Extracted text from CSCI-1100-940-Haas.pdf and saved to CSCI-1100-940-Haas.txt\n",
      "Extracted text from CSCI-1120-901-Hendrix.pdf and saved to CSCI-1120-901-Hendrix.txt\n",
      "Extracted text from CSCI-1200-001-Desjardins.pdf and saved to CSCI-1200-001-Desjardins.txt\n",
      "Extracted text from CSCI-1210-001-Ramsey.pdf and saved to CSCI-1210-001-Ramsey.txt\n",
      "Extracted text from CSCI-1210-201-Loveday.pdf and saved to CSCI-1210-201-Loveday.txt\n",
      "Extracted text from CSCI-1210-800-Young.pdf and saved to CSCI-1210-800-Young.txt\n",
      "Extracted text from CSCI-1210-901-Loveday.pdf and saved to CSCI-1210-901-Loveday.txt\n",
      "Extracted text from CSCI-1250-001-Gillenwater.pdf and saved to CSCI-1250-001-Gillenwater.txt\n",
      "Extracted text from CSCI-1250-002-Scott.pdf and saved to CSCI-1250-002-Scott.txt\n",
      "Extracted text from CSCI-1250-077-Desjardins.pdf and saved to CSCI-1250-077-Desjardins.txt\n",
      "Extracted text from CSCI-1250-201-Buchanan.pdf and saved to CSCI-1250-201-Buchanan.txt\n",
      "Extracted text from CSCI-1260-001-Buchanan.pdf and saved to CSCI-1260-001-Buchanan.txt\n",
      "Extracted text from CSCI-1400-001-Loveday.pdf and saved to CSCI-1400-001-Loveday.txt\n",
      "Extracted text from CSCI-1400-800-Burton.pdf and saved to CSCI-1400-800-Burton.txt\n",
      "Extracted text from CSCI-1510-001-Dean.pdf and saved to CSCI-1510-001-Dean.txt\n",
      "Extracted text from CSCI-1510-002-Oler.pdf and saved to CSCI-1510-002-Oler.txt\n",
      "Extracted text from CSCI-1510-800-Young.pdf and saved to CSCI-1510-800-Young.txt\n",
      "Extracted text from CSCI-1720-002-Ramsey.pdf and saved to CSCI-1720-002-Ramsey.txt\n",
      "Extracted text from CSCI-1900-001-Tarnoff.pdf and saved to CSCI-1900-001-Tarnoff.txt\n",
      "Extracted text from CSCI-2020-001-Rezwana.pdf and saved to CSCI-2020-001-Rezwana.txt\n",
      "Extracted text from CSCI-2020-201-Desjardins.pdf and saved to CSCI-2020-201-Desjardins.txt\n",
      "Extracted text from CSCI-2020-202-Rezwana.pdf and saved to CSCI-2020-202-Rezwana.txt\n",
      "Extracted text from CSCI-2020-901-Rezwana.pdf and saved to CSCI-2020-901-Rezwana.txt\n",
      "Extracted text from CSCI-2150-001-Tarnoff.pdf and saved to CSCI-2150-001-Tarnoff.txt\n",
      "Extracted text from CSCI-2200-001-Ramsey.pdf and saved to CSCI-2200-001-Ramsey.txt\n",
      "Extracted text from CSCI-2200-002-Scott.pdf and saved to CSCI-2200-002-Scott.txt\n",
      "Extracted text from CSCI-2210-001-Gillenwater.pdf and saved to CSCI-2210-001-Gillenwater.txt\n",
      "Extracted text from CSCI-2910-001-Buchanan.pdf and saved to CSCI-2910-001-Buchanan.txt\n",
      "Extracted text from CSCI-3000-001-Dubay.pdf and saved to CSCI-3000-001-Dubay.txt\n",
      "Extracted text from CSCI-3110-001-Roach.pdf and saved to CSCI-3110-001-Roach.txt\n",
      "Extracted text from CSCI-3160-001-Harrison.pdf and saved to CSCI-3160-001-Harrison.txt\n",
      "Extracted text from CSCI-3230-001-Harrison.pdf and saved to CSCI-3230-001-Harrison.txt\n",
      "Extracted text from CSCI-3400-202-Scott.pdf and saved to CSCI-3400-202-Scott.txt\n",
      "Extracted text from CSCI-3400-800-Burton.pdf and saved to CSCI-3400-800-Burton.txt\n",
      "Extracted text from CSCI-3500-001-Lehrfeld.pdf and saved to CSCI-3500-001-Lehrfeld.txt\n",
      "Extracted text from CSCI-3600-201-Bajracharya.pdf and saved to CSCI-3600-201-Bajracharya.txt\n",
      "Extracted text from CSCI-3700-001-Desjardins.pdf and saved to CSCI-3700-001-Desjardins.txt\n",
      "Extracted text from CSCI-3700-002-Battleson.pdf and saved to CSCI-3700-002-Battleson.txt\n",
      "Extracted text from CSCI-3700-003-Hendrix.pdf and saved to CSCI-3700-003-Hendrix.txt\n",
      "Extracted text from CSCI-4250-001-Kinser.pdf and saved to CSCI-4250-001-Kinser.txt\n",
      "Extracted text from CSCI-4350-001-Shaik.pdf and saved to CSCI-4350-001-Shaik.txt\n",
      "Extracted text from CSCI-4350-002-Kinser.pdf and saved to CSCI-4350-002-Kinser.txt\n",
      "Extracted text from CSCI-4417_5417-001-Ramsey.pdf and saved to CSCI-4417_5417-001-Ramsey.txt\n",
      "Extracted text from CSCI-4607-5607-001-Bajracharya.pdf and saved to CSCI-4607-5607-001-Bajracharya.txt\n",
      "Extracted text from CSCI-4607-800-Burton.pdf and saved to CSCI-4607-800-Burton.txt\n",
      "Extracted text from CSCI-4727-001-Harrison.pdf and saved to CSCI-4727-001-Harrison.txt\n",
      "Extracted text from CSCI-4757-5757-001-Battleson.pdf and saved to CSCI-4757-5757-001-Battleson.txt\n",
      "Extracted text from CSCI-4847-001-Hendrix.pdf and saved to CSCI-4847-001-Hendrix.txt\n",
      "Extracted text from CSCI-4905-001-Bennett.pdf and saved to CSCI-4905-001-Bennett.txt\n",
      "Extracted text from CSCI-4905-800 & 801-Young.pdf and saved to CSCI-4905-800 & 801-Young.txt\n",
      "Extracted text from CSCI-4927-201-Rezwana.pdf and saved to CSCI-4927-201-Rezwana.txt\n",
      "Extracted text from CSCI-4957-5957-002-Bajracharya.pdf and saved to CSCI-4957-5957-002-Bajracharya.txt\n",
      "Extracted text from CSCI-5000-910-Bennett.pdf and saved to CSCI-5000-910-Bennett.txt\n",
      "Extracted text from CSCI-5050-901-Hendrix.pdf and saved to CSCI-5050-901-Hendrix.txt\n",
      "Extracted text from CSCI-5150-201-Harrison.pdf and saved to CSCI-5150-201-Harrison.txt\n",
      "Extracted text from CSCI-5200-201-Shaik.pdf and saved to CSCI-5200-201-Shaik.txt\n",
      "Extracted text from CSCI-5220-201-Roach.pdf and saved to CSCI-5220-201-Roach.txt\n",
      "Extracted text from CSCI-5230-201-Roach.pdf and saved to CSCI-5230-201-Roach.txt\n",
      "Extracted text from CSCI-5230-940-Shaik.pdf and saved to CSCI-5230-940-Shaik.txt\n",
      "Extracted text from CSCI-5260-901-Bennett.pdf and saved to CSCI-5260-901-Bennett.txt\n",
      "Extracted text from CSCI-5460-201-Lehrfeld.pdf and saved to CSCI-5460-201-Lehrfeld.txt\n",
      "Extracted text from CSCI-5520-201-Dubay.pdf and saved to CSCI-5520-201-Dubay.txt\n",
      "Extracted text from CSCI-5927-201-Rezwana.pdf and saved to CSCI-5927-201-Rezwana.txt\n",
      "Extracted text from CSCI-5989-001-Bennett.pdf and saved to CSCI-5989-001-Bennett.txt\n"
     ]
    }
   ],
   "source": [
    "# Define the paths\n",
    "pdf_folder = './UniqueCourses'  # Folder containing the PDF files\n",
    "output_folder = './TextFiles_PDFPlumber'  # Folder to save the text files\n",
    "\n",
    "# Iterate through all PDF files in the folder\n",
    "for filename in os.listdir(pdf_folder):\n",
    "    if filename.endswith(\".pdf\"):\n",
    "        pdf_path = os.path.join(pdf_folder, filename)\n",
    "        text_filename = os.path.splitext(filename)[0] + \".txt\"  # Change extension to .txt\n",
    "        text_path = os.path.join(output_folder, text_filename)\n",
    "        \n",
    "        # Open the PDF and extract text\n",
    "        with pdfplumber.open(pdf_path) as pdf:\n",
    "            full_text = \"\"\n",
    "            for page in pdf.pages:\n",
    "                full_text += page.extract_text() + \"\\n\"  # Add a newline between pages\n",
    "            \n",
    "            # Write the extracted text to a text file\n",
    "            with open(text_path, 'w', encoding='utf-8') as text_file:\n",
    "                text_file.write(full_text)\n",
    "\n",
    "        print(f\"Extracted text from {filename} and saved to {text_filename}\")\n"
   ]
  }
 ],
 "metadata": {
  "kernelspec": {
   "display_name": "NLP",
   "language": "python",
   "name": "python3"
  },
  "language_info": {
   "codemirror_mode": {
    "name": "ipython",
    "version": 3
   },
   "file_extension": ".py",
   "mimetype": "text/x-python",
   "name": "python",
   "nbconvert_exporter": "python",
   "pygments_lexer": "ipython3",
   "version": "3.12.5"
  }
 },
 "nbformat": 4,
 "nbformat_minor": 2
}
