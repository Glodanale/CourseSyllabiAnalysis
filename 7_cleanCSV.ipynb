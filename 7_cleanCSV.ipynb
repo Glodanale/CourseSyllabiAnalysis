{
 "cells": [
  {
   "cell_type": "markdown",
   "metadata": {},
   "source": [
    "# Clean CSV\n",
    "\n",
    "Remove square brackets and single quotes that important terms/phrases in the dataset are wrapped in.\n",
    "\n",
    "### Input: Apriori_Expansion.csv,   Apriori_Ngrams.csv\n",
    "### Output: Cleaned_Apriori_Expansion.csv,   Cleaned_Apriori_Ngrams.csv"
   ]
  },
  {
   "cell_type": "code",
   "execution_count": null,
   "metadata": {},
   "outputs": [],
   "source": [
    "import pandas as pd"
   ]
  },
  {
   "cell_type": "code",
   "execution_count": null,
   "metadata": {},
   "outputs": [],
   "source": [
    "# Load the Apriori.csv file\n",
    "apriori_ex_df = pd.read_csv('Apriori_Expansion.csv')\n",
    "apriori_ngram_df = pd.read_csv(\"Apriori_Ngrams.csv\")"
   ]
  },
  {
   "cell_type": "code",
   "execution_count": null,
   "metadata": {},
   "outputs": [],
   "source": [
    "# Clean the 'Base' and 'Add' columns by removing brackets and single quotes\n",
    "apriori_ex_df['Base'] = apriori_ex_df['Base'].str.strip(\"[]'\\\"\")\n",
    "apriori_ex_df['Add'] = apriori_ex_df['Add'].str.strip(\"[]'\\\"\")\n",
    "apriori_ngram_df['Base'] = apriori_ngram_df['Base'].str.strip(\"[]'\\\"\")\n",
    "apriori_ngram_df['Add'] = apriori_ngram_df['Add'].str.strip(\"[]'\\\"\")"
   ]
  },
  {
   "cell_type": "code",
   "execution_count": null,
   "metadata": {},
   "outputs": [],
   "source": [
    "# Save the cleaned DataFrame back to a CSV file\n",
    "cleaned_file_path_ex = 'Cleaned_Apriori_Expansion.csv'\n",
    "cleaned_file_path_ngram = 'Cleaned_Apriori_Ngrams.csv'\n",
    "apriori_ex_df.to_csv(cleaned_file_path_ex, index=False)\n",
    "apriori_ngram_df.to_csv(cleaned_file_path_ngram, index=False)"
   ]
  }
 ],
 "metadata": {
  "kernelspec": {
   "display_name": "NLP",
   "language": "python",
   "name": "python3"
  },
  "language_info": {
   "codemirror_mode": {
    "name": "ipython",
    "version": 3
   },
   "file_extension": ".py",
   "mimetype": "text/x-python",
   "name": "python",
   "nbconvert_exporter": "python",
   "pygments_lexer": "ipython3",
   "version": "3.12.5"
  }
 },
 "nbformat": 4,
 "nbformat_minor": 2
}
