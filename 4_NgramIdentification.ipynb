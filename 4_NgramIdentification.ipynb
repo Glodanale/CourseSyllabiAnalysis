{
 "cells": [
  {
   "cell_type": "markdown",
   "metadata": {},
   "source": [
    "# Ngram Identification\n",
    "\n",
    "This file preprocesses the syllabi text further to perform tf/idf vectorization, identify n-grams, and store those n-grams in lists associated with each document to capture meaningful terms/phrases.\n",
    "\n",
    "\n",
    "### Input:  InstructorRatingsCSV.csv, TextFiles_Combo folder\n",
    "### Output: NgramIdentification.csv"
   ]
  },
  {
   "cell_type": "code",
   "execution_count": null,
   "metadata": {},
   "outputs": [],
   "source": [
    "import os\n",
    "import pandas as pd\n",
    "from sklearn.feature_extraction.text import TfidfVectorizer\n",
    "from nltk.corpus import stopwords\n",
    "import re"
   ]
  },
  {
   "cell_type": "code",
   "execution_count": null,
   "metadata": {},
   "outputs": [],
   "source": [
    "def preprocess_text(text, custom_stopwords):\n",
    "    # Convert to lowercase\n",
    "    text = text.lower()\n",
    "    # Remove all punctuation except # and -, and remove digits\n",
    "    text = re.sub(r'[^\\w\\s#-]', '', text)  # Keep # and -\n",
    "    text = re.sub(r'\\d+', '', text)  # Remove numbers\n",
    "    # Tokenize\n",
    "    tokens = text.split()\n",
    "    # Remove stopwords and tokens of length 1\n",
    "    tokens = [word for word in tokens if word not in custom_stopwords and len(word) > 1]\n",
    "    # Lemmatize tokens\n",
    "    # lemmatizer = WordNetLemmatizer()\n",
    "    # tokens = [lemmatizer.lemmatize(token) for token in tokens]\n",
    "\n",
    "    deduplicated_tokens = []\n",
    "    iterator = \"\"\n",
    "    for i, token in enumerate(tokens):\n",
    "        if token == \"dl\":\n",
    "            token = \"d2l\"       # maintain meaning of token after removing numbers\n",
    "\n",
    "        if token != iterator:                       # removes bak-to-back repeating tokens\n",
    "            deduplicated_tokens.append(token)\n",
    "            iterator = token\n",
    "\n",
    "\n",
    "    return \" \".join(deduplicated_tokens)"
   ]
  },
  {
   "cell_type": "code",
   "execution_count": 3,
   "metadata": {},
   "outputs": [],
   "source": [
    "# Define custom stopwords (add repetitive terms here)\n",
    "custom_stopwords = set(stopwords.words('english'))\n",
    "custom_stopwords.update([\"academic\", \"misconduct\", \"syllabus\", \"university\", \"class\", \"csci\",\"course\", \"grade\",\n",
    "                         \"instructor\", \"plagiarism\", \"na\", \"page\", \"cs\", \"office\", \"isbn\"\n",
    "                         \"am\", \"pm\",\"am-am\", \"pm-pm\", \"-pm\", \"am-\", \"eastern\", \"sep\", \"sept\", \"oct\", \"nov\", \"dec\", \"fall\", \"spring\", \"summer\",\n",
    "                         \"mon\", \"tue\", \"wed\", \"thu\", \"monday\", \"tuesday\", \"wednesday\", \"thursday\", \"friday\", \"dr\", \"mr\", \"mrs\", \"ms\"])\n",
    "\n",
    "# Add plural forms of the custom stopwords\n",
    "plural_stopwords = {word + \"s\" for word in custom_stopwords}\n",
    "more_stopwords = custom_stopwords.union(plural_stopwords)"
   ]
  },
  {
   "cell_type": "code",
   "execution_count": 4,
   "metadata": {},
   "outputs": [],
   "source": [
    "# Step 1: Load documents\n",
    "csv_path = \"InstructorRatingsCSV.csv\"\n",
    "folder_path = \"TextFiles_Combo\"\n",
    "\n",
    "# Load CSV\n",
    "df = pd.read_csv(csv_path)\n",
    "\n",
    "names = df[[\"INSTRUCTOR\"]]\n",
    "df = df[[\"ID\"]]\n",
    "\n",
    "namesList = []\n",
    "\n",
    "for name in names[\"INSTRUCTOR\"]:\n",
    "    namesList.append(name.lower())\n",
    "\n",
    "full_stopwords = more_stopwords.union(namesList)\n",
    "\n",
    "# Load text documents\n",
    "documents = []\n",
    "for file_name in df[\"ID\"]:\n",
    "    with open(os.path.join(folder_path, file_name + \".txt\"), 'r') as file:\n",
    "        raw_text = file.read()\n",
    "        processed_text = preprocess_text(raw_text, full_stopwords)\n",
    "        documents.append(processed_text)\n",
    "\n",
    "df[\"ProcessedDocument\"] = documents"
   ]
  },
  {
   "cell_type": "code",
   "execution_count": 5,
   "metadata": {},
   "outputs": [],
   "source": [
    "# Step 2: TF-IDF Vectorization\n",
    "vectorizer = TfidfVectorizer(ngram_range=(1, 3), stop_words='english')\n",
    "tfidf_matrix = vectorizer.fit_transform(df[\"ProcessedDocument\"])\n",
    "terms = vectorizer.get_feature_names_out()"
   ]
  },
  {
   "cell_type": "code",
   "execution_count": 6,
   "metadata": {},
   "outputs": [
    {
     "name": "stdout",
     "output_type": "stream",
     "text": [
      "Document ID CSCI-1100-003-Haas: ['digital', 'lab', 'literacy', 'audit', 'work', 'digital citizenship', 'citizenship', 'help', 'delivery', 'assignments', 'technology', 'online', 'delivery modality', 'bucs', 'learning labs', 'brown hall', 'personal learning', 'exit', 'reflect', 'students', 'brown', 'appeal', 'lecture', 'time', 'information']\n",
      "Document ID CSCI-1100-901-Haas: ['digital', 'lab', 'literacy', 'audit', 'citizenship', 'digital citizenship', 'work', 'assignments', 'help', 'delivery', 'exit', 'technology', 'online', 'personal learning', 'brown hall', 'learning labs', 'delivery modality', 'bucs', 'exit ticket', 'ticket', 'reflect', 'students', 'brown', 'appeal', 'lesson']\n",
      "Document ID CSCI-1120-901-Hendrix: ['satisfactory', 'discussion', 'students', 'tokens', 'level satisfactory', 'assign letter', 'discussion posts', 'posts', 'student', 'project', 'token', 'letter', 'quiz', 'achieving', 'vba', 'spreadsheet', 'satisfactory completion', 'macros', 'worksheet', 'module students', 'rubric', 'level', 'activity', 'assigned letter', 'data']\n",
      "Document ID CSCI-1200-001-Desjardins: ['students', 'code', 'work', 'ai', 'exit', 'help', 'assignments', 'exit tickets', 'tickets', 'exam', 'student', 'programming', 'questions', 'github', 'use', 'time', 'ask', 'ai tools', 'learning', 'services', 'd2l', 'changes', 'tools', 'email', 'real time']\n",
      "Document ID CSCI-1210-001-Ramsey: ['web', 'lab', 'web site', 'html', 'students', 'use', 'drive', 'lab exercises', 'graphics', 'outcome', 'design', 'team', 'student outcome', 'client', 'time', 'given', 'assignments', 'work', 'exercises', 'student', 'assignment', 'use web', 'quizzes graded', 'lab exercise', 'graded lab']\n",
      "Document ID CSCI-1210-201-Loveday: ['lab', 'web', 'html', 'drive', 'students', 'lab exercises', 'web site', 'thumb drive', 'thumb', 'use', 'team', 'design', 'graphics', 'outcome', 'install', 'student outcome', 'client', 'given', 'assignments', 'dont', 'work', 'code', 'pc', 'exercises', 'time']\n",
      "Document ID CSCI-1210-901-Loveday: ['lab', 'web', 'html', 'drive', 'students', 'lab exercises', 'web site', 'thumb drive', 'thumb', 'use', 'team', 'design', 'graphics', 'outcome', 'install', 'student outcome', 'client', 'given', 'assignments', 'dont', 'work', 'code', 'pc', 'exercises', 'time']\n",
      "Document ID CSCI-1250-001-Gillenwater: ['students', 'ai', 'assignments', 'student', 'programming', 'ai tools', 'code', 'tools', 'stated', 'assignment', 'work', 'permitted', 'unless', 'use', 'submissions assignments', 'tests quizzes', 'students permitted', 'solving', 'd2l', 'submissions assignments accepted', 'paper', 'turnitin', 'problem solving', 'tests', 'submissions']\n",
      "Document ID CSCI-1250-002-Scott: ['students', 'ai', 'assignments', 'student', 'programming', 'ai tools', 'code', 'tools', 'stated', 'assignment', 'work', 'permitted', 'unless', 'use', 'submissions assignments', 'tests quizzes', 'students permitted', 'solving', 'd2l', 'submissions assignments accepted', 'paper', 'turnitin', 'problem solving', 'tests', 'submissions']\n",
      "Document ID CSCI-1250-077-Desjardins: ['students', 'code', 'ai', 'work', 'programming', 'exit', 'help', 'assignments', 'exit tickets', 'tickets', 'exam', 'student', 'use', 'questions', 'github', 'time', 'ask', 'ai tools', 'learning', 'services', 'solving', 'd2l', 'problem', 'changes', 'tools']\n",
      "Document ID CSCI-1250-201-Buchanan: ['students', 'programming', 'student', 'assignments', 'stated', 'assignment', 'unless stated', 'unless stated assignment', 'stated assignment', 'students permitted', 'turnitin', 'docs', 'permitted', 'appeal', 'solving', 'code', 'etsu', 'inputoutput', 'tests quizzes', 'entertainment', 'accommodations', 'classroom', 'hours', 'problem solving', 'computer']\n",
      "Document ID CSCI-1260-001-Buchanan: ['students', 'assignments', 'student', 'programming', 'stated', 'assignment', 'unless stated', 'unless stated assignment', 'stated assignment', 'students permitted', 'varies', 'turnitin', 'permitted', 'appeal', 'etsu', 'entertainment', 'tests quizzes', 'accommodations', 'classroom', 'hours', 'varies section', 'd2l varies section', 'd2l varies', 'encourages', 'schedule meeting']\n",
      "Document ID CSCI-1400-001-Loveday: ['chapters', 'pc', 'installation', 'setup', 'pc setup', 'setup maintenance', 'pc setup maintenance', 'lab', 'wallace', 'wilson wallace hall', 'wilson wallace', 'wallace hall', 'student outcomes', 'maintenance', 'student', 'troubleshooting', 'wilson', 'work', 'install', 'operating systems', 'hall pc', 'wallace hall pc', 'bios', 'hall pc setup', 'laboratory']\n",
      "Document ID CSCI-1510-001-Dean: ['level higher', 'students', 'level', 'tokens', 'higher', 'higher level', 'reflection', 'token', 'semester', 'semester activities', 'reflection students', 'higher level higher', 'time management', 'plus', 'level higher level', 'weekly calendar', 'professionalism', 'reflect', 'presentations', 'criteria', 'peer', 'email', 'complete meet', 'management pt', 'reflection students reflect']\n",
      "Document ID CSCI-1510-002-Oler: ['level higher', 'students', 'level', 'tokens', 'higher', 'higher level', 'reflection', 'token', 'semester', 'semester activities', 'reflection students', 'higher level higher', 'time management', 'plus', 'level higher level', 'weekly calendar', 'professionalism', 'reflect', 'presentations', 'criteria', 'peer', 'email', 'complete meet', 'management pt', 'reflection students reflect']\n",
      "Document ID CSCI-1720-002-Ramsey: ['intermediate web', 'department computing intermediate', 'computing intermediate', 'computing intermediate web', 'state department computing', 'state department', 'tennessee state department', 'web', 'lab', 'assignments', 'intermediate', 'use personal', 'students', 'discord', 'jquery', 'work', 'personal computers', 'personal', 'javascript', 'html', 'use', 'labs homework', 'php', 'wschools', 'lecture']\n",
      "Document ID CSCI-1900-001-Tarnoff: ['students', 'math', 'shared outcome', 'absences', 'test', 'work', 'quiz', 'outcome', 'mathematical', 'opening', 'computer science', 'student', 'science', 'relations', 'time', 'questions', 'd2l', 'functions', 'math computer', 'math computer science', 'rental', 'induction', 'mathematical induction', 'finite', 'assignments']\n",
      "Document ID CSCI-2020-001-Rezwana: ['database', 'sql', 'relational', 'students', 'work', 'deliverables', 'labs', 'relational database', 'etsu', 'late days', 'project deliverables', 'available', 'lab', 'project', 'design', 'database design', 'help', 'd2l', 'technical', 'data', 'help desk', 'student', 'performs', 'exercises', 'email']\n",
      "Document ID CSCI-2020-201-Desjardins: ['students', 'code', 'database', 'ai', 'work', 'exit', 'help', 'assignments', 'tickets', 'exit tickets', 'exam', 'student', 'time', 'questions', 'github', 'use', 'database design', 'relational', 'ask', 'ai tools', 'learning', 'services', 'tools', 'd2l', 'email']\n",
      "Document ID CSCI-2020-901-Rezwana: ['database', 'sql', 'pair', 'relational', 'students', 'work', 'pair project', 'project', 'd2l', 'relational database', 'etsu', 'deliverables', 'url', 'late days', 'project deliverables', 'assignments', 'design', 'verifiable', 'database design', 'help', 'reserve right', 'reserve', 'data', 'help desk', 'labs']\n",
      "Document ID CSCI-2150-001-Tarnoff: ['codf', 'memory', 'logic', 'ch', 'students', 'test', 'absences', 'student', 'work', 'organization', 'student outcome', 'organization design', 'outcome', 'opening', 'binary', 'd2l', 'aca', 'architecture', 'reading', 'design', 'time', 'oreilly media', 'retrieved', 'available', 'computer organization']\n",
      "Document ID CSCI-2200-001-Ramsey: ['unix', 'command', 'commands', 'scripting', 'file', 'points', 'unix command', 'ubuntu', 'lab', 'lecture', 'le', 'bash', 'assignments', 'basic unix', 'basic unix command', 'virtualbox', 'directory', 'scripting lecture', 'lecture bash', 'bash scripting lecture', 'lecture bash scripting', 'unix file', 'filters', 'pipes', 'recursive directory']\n",
      "Document ID CSCI-2200-002-Scott: ['unix', 'command', 'ai', 'commands', 'file', 'unix command', 'tools', 'scripting', 'help', 'use', 'final average', 'ai tools', 'basic unix command', 'basic unix', 'students', 'points', 'changes', 'lab', 'work', 'directory', 'help desk', 'recursive directory traversal', 'multiprocessing', 'filters', 'recursive directory']\n",
      "Document ID CSCI-2210-001-Gillenwater: ['students', 'ai', 'assignments', 'queues', 'trees', 'tools', 'data structures', 'student', 'use', 'structures', 'ai tools', 'algorithm', 'algorithms', 'work', 'stated', 'code', 'big', 'permitted', 'unless', 'oh', 'hash', 'priority queues', 'algorithm analysis', 'hash tables', 'stacks queues priority']\n",
      "Document ID CSCI-2910-001-Buchanan: ['students', 'assignments', 'student', 'stated', 'server', 'assignment', 'students permitted', 'unless stated', 'unless stated assignment', 'stated assignment', 'net', 'applications', 'languages', 'programming', 'visual', 'turnitin', 'web', 'appeal', 'permitted', 'etsu', 'entertainment', 'tests quizzes', 'accommodations', 'classroom', 'hours']\n",
      "Document ID CSCI-3000-001-Dubay: ['students', 'scenario', 'group', 'resume', 'business scenario', 'work', 'team', 'career', 'help', 'team member', 'student', 'assignment', 'cover letter', 'professional', 'attendance', 'technical', 'group receive', 'members group', 'members group receive', 'group projects', 'career fair', 'changes', 'help desk', 'ive', 'roster']\n",
      "Document ID CSCI-3110-001-Roach: ['web', 'advanced web', 'web development', 'work', 'aspnet', 'development', 'advanced', 'layer usability', 'advanced web development', 'layer usability web', 'create accessible modern', 'scripting language tool', 'web coding', 'web coding concepts', 'usability web using', 'usability web', 'extra layer usability', 'using current scripting', 'advanced web coding', 'current scripting language', 'create accessible', 'current scripting', 'extra layer', 'coding concepts', 'accessible modern']\n",
      "Document ID CSCI-3160-001-Harrison: ['computer systems', 'exercises programming labs', 'class exercises programming', 'exercises programming', 'programming labs', 'programming', 'memory', 'students', 'earn', 'systems', 'ai', 'features software', 'compilation', 'modern computer', 'computer', 'exercises', 'class exercises', 'scale students', 'modify scale', 'students earn', 'programs', 'ai use', 'modify', 'labs', 'level']\n",
      "Document ID CSCI-3230-001-Harrison: ['algorithms', 'complexity', 'problem sets', 'exercises problem sets', 'complexity classes', 'exercises problem', 'algorithmic', 'ai', 'sets', 'students', 'ai use', 'earn', 'asymptotic', 'models computation', 'class exercises problem', 'computation', 'recurrence', 'asymptotic notation', 'recurrence relations', 'graph algorithms', 'class exercises', 'problem', 'relations', 'solve', 'graph']\n",
      "Document ID CSCI-3400-202-Scott: ['network', 'layer', 'networking', 'ai', 'osi', 'computer networking', 'osi model', 'students', 'help', 'ai tools', 'model', 'tools', 'changes', 'layer osi model', 'responsibilities layer', 'conceptual application', 'layer osi', 'responsibilities layer osi', 'help desk', 'ive', 'conceptual', 'desk', 'student outcomes', 'work', 'services']\n",
      "Document ID CSCI-3500-001-Lehrfeld: ['security', 'information security', 'discussion leaders', 'discussion', 'leaders', 'michael', 'lecture', 'student outcome', 'information', 'outcome', 'security lecture', 'student outcome demonstrate', 'outcome demonstrate', 'outcome demonstrate understanding', 'forensics', 'security student', 'kali', 'virtual box', 'threats', 'assigned topic', 'understanding', 'student', 'demonstrate understanding', 'intrusion detection', 'intrusion']\n",
      "Document ID CSCI-3600-201-Bajracharya: ['scripting', 'computer scripting', 'week', 'powershell', 'students', 'computer', 'tasks', 'automating', 'approval', 'student', 'request', 'windows powershell', 'powershell output', 'scripting week', 'holiday week', 'teach people', 'administrative tasks', 'assignments', 'etsu', 'policy', 'incomplete', 'day', 'edition author', 'demonstrationpresentation', 'recording']\n",
      "Document ID CSCI-3700-001-Desjardins: ['students', 'purchase', 'erpsim', 'work', 'ai', 'business', 'business processes', 'questions', 'enterprise', 'processes', 'help', 'information', 'define explain', 'use', 'student', 'exam', 'explain', 'time', 'assignments', 'tools', 'systems', 'enterprise resource', 'erp', 'study questions', 'ai tools']\n",
      "Document ID CSCI-3700-002-Battleson: ['psi', 'psi chapter', 'erpsim', 'sap', 'chapter', 'study questions', 'processes', 'exercise', 'erp', 'purchase', 'business', 'enterprise', 'manufacturing', 'systems', 'study', 'business processes', 'chapter psi chapter', 'chapter psi', 'erpsim manufacturing', 'psi chapter psi', 'information systems', 'company', 'information', 'analytics', 'define explain']\n",
      "Document ID CSCI-3700-003-Hendrix: ['erpsim', 'chapter', 'chapter erpsim', 'information', 'business', 'erpsim project', 'students', 'final calculated', 'systems', 'sap', 'information systems', 'chapter excel', 'points final calculated', 'honor', 'excel', 'etsu', 'accepted late', 'points final', 'email', 'business process', 'attempted', 'integrity', 'final', 'pledge', 'attachment information']\n",
      "Document ID CSCI-4037-201-Doulat: ['nlp', 'natural language', 'students', 'natural', 'language processing', 'text', 'project', 'text analysis', 'nlp text', 'nlp text analysis', 'language', 'final', 'work', 'time', 'processing', 'final project', 'student', 'assignments', 'natural language processing', 'analysis', 'presentation', 'policy', 'graduate', 'comprehensive', 'average']\n",
      "Document ID CSCI-4250-001-Kinser: ['engineering', 'software engineering', 'software', 'students', 'topic quizzes', 'expectations', 'job', 'topic', 'essays', 'river nj pearson', 'education isbn', 'nj pearson', 'nj pearson education', 'pearson education isbn', 'development', 'quizzes', 'attempt', 'project', 'tools', 'exceeding expectations', 'exceeding', 'agile', 'pearson education', 'status reports', 'job description']\n",
      "Document ID CSCI-4350-001-Shaik: ['engineering', 'software engineering', 'ii', 'engineering ii', 'software engineering ii', 'students', 'software', 'se', 'project', 'learning objective quizzes', 'objective quizzes', 'learning objective', 'attempt', 'expectations', 'progress', 'team', 'work', 'objective', 'student', 'quizzes', 'scrum', 'essays', 'progress reports', 'reports', 'topics']\n",
      "Document ID CSCI-4350-002-Kinser: ['engineering', 'software engineering', 'ii', 'software engineering ii', 'engineering ii', 'students', 'software', 'se', 'project', 'objective quizzes', 'learning objective quizzes', 'learning objective', 'attempt', 'expectations', 'progress', 'team', 'work', 'objective', 'student', 'quizzes', 'scrum', 'essays', 'progress reports', 'reports', 'topics']\n",
      "Document ID CSCI-4417-001-Ramsey: ['administration', 'lab', 'windows', 'network', 'aws', 'operating', 'systems', 'unix', 'lecture', 'operating systems', 'file', 'aspects', 'file systems', 'linux', 'remote', 'personal devices', 'powershell', 'configure', 'personal', 'management', 'network operating', 'microsofts', 'sysinternals', 'basic issues', 'lab reports']\n",
      "Document ID CSCI-4607-001-Bajracharya: ['risk', 'information risk', 'risk management', 'information risk management', 'information', 'students', 'week risk', 'information security', 'management', 'security', 'student', 'week', 'crisc', 'case study', 'exam guide', 'information systems', 'risks', 'author', 'threats', 'attacks', 'materials', 'andor', 'etsu', 'policy', 'guide']\n",
      "Document ID CSCI-4727-001-Harrison: ['operating', 'operating systems', 'user applications', 'arpaci dusseau', 'arpaci', 'dusseau', 'programming labs', 'exercises programming', 'class exercises programming', 'exercises programming labs', 'systems', 'earn', 'ai', 'students', 'storage management', 'policies mechanisms', 'main features', 'operating services', 'user', 'applications', 'class exercises', 'synchronization', 'scale students', 'modify scale', 'virtualization']\n",
      "Document ID CSCI-4757-001-Battleson: ['sap', 'configuration', 'bpc', 'bpc chapter', 'chapter', 'enterprise', 'accounting', 'accounting bpc', 'accounting bpc chapter', 'student', 'implementation', 'sap exercises', 'students', 'exam', 'exercise', 'graduate', 'information', 'management accounting', 'chapter study', 'business process', 'study', 'business', 'work', 'study questions', 'financial accounting']\n",
      "Document ID CSCI-4847-001-Hendrix: ['healthcare', 'healthcare information', 'work', 'information', 'average', 'students', 'health', 'etsu credentials needed', 'health information', 'credentials needed', 'free visiting', 'available free visiting', 'healthcare data', 'performs', 'technologies', 'etsu', 'information systems', 'records', 'credentials', 'etsu credentials', 'technology', 'policy', 'policies', 'httpslearningoreillycomlibraryviewhealthcareinformatics etsu credentials', 'httpslearningoreillycomlibraryviewhealthcareinformatics']\n",
      "Document ID CSCI-4905-001-Bennett: ['op', 'supervisor', 'interview', 'internshipco', 'internshipco op', 'exit interview', 'employer', 'melinda', 'employer evaluation', 'hall rm', 'rm', 'sam', 'sam wilson', 'exit', 'wilson', 'faculty supervisor', 'april', 'wilson hall rm', 'form', 'july', 'report project', 'sam wilson hall', 'wilson hall', 'pdf', 'digital']\n",
      "Document ID CSCI-4927-201-Rezwana: ['interfaces', 'user', 'hci', 'interaction', 'human', 'project', 'assignments', 'interface', 'design', 'work', 'user interface', 'performs', 'project assignments', 'user interfaces', 'human computer', 'human computer interaction', 'computer interaction', 'individual assignments', 'covid policy', 'assignments individual', 'regrading', 'cycle', 'students', 'information', 'covid']\n",
      "Document ID CSCI-4957-002-Bajracharya: ['network', 'security', 'defensive', 'defensive security', 'topics offensive defensive', 'topics offensive', 'special topics', 'offensive defensive', 'offensive', 'special topics offensive', 'offensive defensive security', 'week', 'students', 'special', 'network security', 'competition', 'security week', 'topics', 'hacking', 'monitoring', 'virtual', 'author ec', 'competitions', 'author ec council', 'ec council']\n",
      "Document ID CSCI-5000-910-Bennett: ['checkpoint', 'seven weeks', 'second seven', 'second seven weeks', 'mysql', 'checkpoint deadline', 'data', 'seven', 'work', 'students', 'module', 'module quizzes', 'weeks', 'graduate', 'student', 'database', 'average', 'second', 'time', 'policy', 'week', 'sunday following', 'sunday following week', 'nosql', 'sql nosql']\n",
      "Document ID CSCI-5037-201-Doulat: ['nlp', 'natural language', 'students', 'natural', 'language processing', 'text', 'project', 'text analysis', 'nlp text', 'nlp text analysis', 'language', 'final', 'work', 'time', 'processing', 'final project', 'student', 'assignments', 'natural language processing', 'analysis', 'presentation', 'policy', 'graduate', 'comprehensive', 'average']\n",
      "Document ID CSCI-5050-901-Hendrix: ['decision support', 'dss', 'decision', 'support systems', 'decision support systems', 'students', 'data', 'work', 'graduate', 'average', 'support', 'data sources', 'performs', 'student', 'time', 'organizational', 'incomplete', 'studies', 'college graduate continuing', 'graduate continuing studies', 'continuing studies', 'graduate continuing', 'college graduate', 'key performance indicators', 'dss design implementation']\n",
      "Document ID CSCI-5150-201-Harrison: ['distributed', 'distributed systems', 'fcg', 'systems', 'fault', 'fault tolerance', 'assessed', 'tolerance', 'students', 'ai', 'ai use', 'demonstrate', 'assessed fcg', 'computations', 'students self', 'fcg students', 'fcg meet', 'systems using', 'systems distributed', 'develop systems using', 'develop systems', 'replication', 'synchronization', 'naming', 'self']\n",
      "Document ID CSCI-5200-201-Shaik: ['requirements', 'critique', 'critique various', 'software', 'work', 'engineering', 'software requirements', 'software engineering', 'good', 'hours', 'elicitation', 'create critique', 'requirements documents', 'create critique various', 'requirements elicitation', 'modeling', 'references', 'addison', 'wesley', 'addison wesley', 'fye', 'badm fye', 'badm', 'shehenaz', 'modeling language']\n",
      "Document ID CSCI-5220-201-Roach: ['software testing', 'software', 'testing', 'work', 'verification', 'execute', 'write execute', 'ry', 'verification validation', 'quality', 'validation', 'software testing principles', 'testing principles', 'software vv', 'plans write', 'plans write execute', 'testing principles practices', 'tests', 'write', 'plans', 'principles practices', 'development', 'hours', 'attendance', 'availability email']\n",
      "Document ID CSCI-5230-201-Roach: ['work', 'software project', 'software', 'project', 'points', 'hours', 'points mini', 'points mini tests', 'tests', 'tests points', 'software project management', 'mini tests', 'discuss software', 'discuss', 'attendance', 'nicks httpsetsuzoomusj', 'punctual attendance', 'tests exams', 'email roachjetsuedu', 'roachjetsuedu', 'punctual', 'peer', 'noon', 'phoenix', 'phoenix project']\n",
      "Document ID CSCI-5230-940-Shaik: ['work', 'team work', 'software', 'software project', 'hours', 'presentations team work', 'references', 'team', 'badm fye', 'demonstrate understanding role', 'badm', 'devote reasonable time', 'fye', 'reasonable time effort', 'shehenaz', 'devote reasonable', 'students', 'demonstrate understanding', 'project', 'session', 'presentations team', 'understanding role', 'ry', 'good', 'phoenix']\n",
      "Document ID CSCI-5260-901-Bennett: ['artificial', 'artificial intelligence', 'intelligence', 'graduate', 'programming', 'programming projects', 'python', 'work', 'semester', 'research project', 'language', 'average', 'students', 'time', 'generative', 'search', 'programming language', 'graduate school', 'python programming', 'python programming language', 'labs quizzes', 'algorithms', 'performs', 'generative ai', 'searching']\n",
      "Document ID CSCI-5417-001-Ramsey: ['administration', 'lab', 'windows', 'network', 'aws', 'operating', 'systems', 'unix', 'lecture', 'operating systems', 'file', 'aspects', 'file systems', 'linux', 'remote', 'personal devices', 'powershell', 'configure', 'personal', 'management', 'network operating', 'microsofts', 'sysinternals', 'basic issues', 'lab reports']\n",
      "Document ID CSCI-5460-201-Lehrfeld: ['security', 'discussion leaders', 'discussion', 'leaders', 'michael', 'standard', 'public key', 'encryption', 'survey standard', 'network', 'sherrod', 'computer security', 'sherrod available', 'available netlibrary', 'sherrod available netlibrary', 'standard tools', 'port', 'netlibrary', 'password', 'security including', 'public', 'cryptography', 'bibliography', 'addison wesley', 'addison']\n",
      "Document ID CSCI-5460-910-Lehrfeld: ['security', 'network', 'information security', 'isbn textbook', 'students', 'information', 'network information security', 'network information', 'network security', 'module', 'author', 'textbook', 'student', 'isbn', 'request', 'materials', 'textbook network', 'isbn textbook comptia', 'isbn textbook network', 'author william stallings', 'author william', 'author mark', 'th edition author', 'textbook network security', 'edition author william']\n",
      "Document ID CSCI-5520-201-Dubay: ['proposal', 'research', 'aligns', 'aligns objective', 'objective', 'literature', 'students', 'research proposal', 'literature review', 'examining', 'help', 'certificate', 'critically examining', 'investigation plan', 'original research', 'students enrolled section', 'objective critically examining', 'objective critically', 'reviews', 'work', 'students enrolled', 'critically', 'draft', 'enrolled section', 'findings']\n",
      "Document ID CSCI-5607-001-Bajracharya: ['risk', 'information risk', 'risk management', 'information risk management', 'information', 'students', 'week risk', 'information security', 'management', 'security', 'student', 'week', 'crisc', 'case study', 'exam guide', 'information systems', 'risks', 'author', 'threats', 'attacks', 'materials', 'andor', 'etsu', 'policy', 'guide']\n",
      "Document ID CSCI-5757-001-Battleson: ['sap', 'configuration', 'bpc', 'bpc chapter', 'chapter', 'enterprise', 'accounting', 'accounting bpc', 'accounting bpc chapter', 'student', 'implementation', 'sap exercises', 'students', 'exam', 'exercise', 'graduate', 'information', 'management accounting', 'chapter study', 'business process', 'study', 'business', 'work', 'study questions', 'financial accounting']\n",
      "Document ID CSCI-5927-201-Rezwana: ['interfaces', 'user', 'hci', 'human', 'interaction', 'assignments', 'interface', 'work', 'project', 'design', 'user interface', 'performs', 'human computer', 'project assignments', 'human computer interaction', 'computer interaction', 'user interfaces', 'individual assignments', 'assignments individual', 'regrading', 'cycle', 'students', 'writing assignment', 'graduate writing', 'graduate writing assignment']\n",
      "Document ID CSCI-5957-002-Bajracharya: ['network', 'security', 'defensive', 'defensive security', 'topics offensive defensive', 'topics offensive', 'special topics', 'offensive defensive', 'offensive', 'special topics offensive', 'offensive defensive security', 'week', 'students', 'special', 'network security', 'competition', 'security week', 'topics', 'hacking', 'monitoring', 'virtual', 'author ec', 'competitions', 'author ec council', 'ec council']\n",
      "Document ID CSCI-5989-001-Bennett: ['op', 'supervisor', 'interview', 'internshipco', 'internshipco op', 'exit interview', 'employer', 'melinda', 'employer evaluation', 'hall rm', 'rm', 'sam', 'sam wilson', 'exit', 'wilson', 'faculty supervisor', 'april', 'wilson hall rm', 'form', 'july', 'report project', 'sam wilson hall', 'wilson hall', 'pdf', 'digital']\n"
     ]
    }
   ],
   "source": [
    "# Step 3: Identify top n-grams for each document\n",
    "top_n = 25  # Adjust as needed\n",
    "top_ngrams_per_document = []\n",
    "\n",
    "for i, document_id in enumerate(df[\"ID\"]):  # Use document ID from the DataFrame\n",
    "    # Get TF-IDF scores for the current document\n",
    "    row = tfidf_matrix[i].toarray().flatten()\n",
    "    top_indices = row.argsort()[-top_n:][::-1]  # Indices of top n-grams\n",
    "    top_ngrams = [terms[index] for index in top_indices]\n",
    "    top_ngrams_per_document.append(top_ngrams)\n",
    "    print(f\"Document ID {document_id}: {top_ngrams}\")  # Print with document ID"
   ]
  },
  {
   "cell_type": "code",
   "execution_count": 7,
   "metadata": {},
   "outputs": [],
   "source": [
    "transactions = top_ngrams_per_document\n",
    "document_ids = df[\"ID\"].tolist()  # List of document IDs from the CSV"
   ]
  },
  {
   "cell_type": "code",
   "execution_count": 8,
   "metadata": {},
   "outputs": [],
   "source": [
    "# Create a DataFrame for inspection\n",
    "expanded_terms_df = pd.DataFrame({\n",
    "    \"ID\": df[\"ID\"],\n",
    "    \"Terms\": transactions\n",
    "})"
   ]
  },
  {
   "cell_type": "code",
   "execution_count": 9,
   "metadata": {},
   "outputs": [],
   "source": [
    "expanded_terms_df.to_csv(\"NgramIdentification.csv\", index=False)"
   ]
  }
 ],
 "metadata": {
  "kernelspec": {
   "display_name": "NLP",
   "language": "python",
   "name": "python3"
  },
  "language_info": {
   "codemirror_mode": {
    "name": "ipython",
    "version": 3
   },
   "file_extension": ".py",
   "mimetype": "text/x-python",
   "name": "python",
   "nbconvert_exporter": "python",
   "pygments_lexer": "ipython3",
   "version": "3.12.5"
  }
 },
 "nbformat": 4,
 "nbformat_minor": 2
}
